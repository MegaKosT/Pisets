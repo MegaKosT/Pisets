{
 "cells": [
  {
   "cell_type": "code",
   "execution_count": 25,
   "id": "ea89a3aa",
   "metadata": {},
   "outputs": [],
   "source": [
    "from transformers import Wav2Vec2Processor, Wav2Vec2ForCTC\n",
    "from datasets import load_dataset\n",
    "import torch\n",
    "import os\n",
    "import torch\n",
    "import torchaudio\n",
    "import torchaudio.functional as F\n"
   ]
  },
  {
   "cell_type": "code",
   "execution_count": 26,
   "id": "61f04c7c",
   "metadata": {},
   "outputs": [
    {
     "name": "stdout",
     "output_type": "stream",
     "text": [
      "True\n"
     ]
    }
   ],
   "source": [
    "os.environ['CUDA_VISIBLE_DEVICES'] = '0'\n",
    "print(torch.cuda.is_available())\n",
    "\n",
    "device = torch.device(\"cuda\" if torch.cuda.is_available() else \"cpu\")"
   ]
  },
  {
   "cell_type": "code",
   "execution_count": 27,
   "id": "e277b707",
   "metadata": {},
   "outputs": [
    {
     "name": "stderr",
     "output_type": "stream",
     "text": [
      "Using custom data configuration MegaKosT--RuDevSberDS-c815bd8b35ec831d\n",
      "Found cached dataset parquet (/root/.cache/huggingface/datasets/MegaKosT___parquet/MegaKosT--RuDevSberDS-c815bd8b35ec831d/0.0.0/2a3b91fbd88a2c90d1dbbb32b460cf621d31bd5b05b934492fdef7d8d6f236ec)\n",
      "100%|██████████| 3/3 [00:00<00:00, 296.84it/s]\n"
     ]
    }
   ],
   "source": [
    "ds = load_dataset(\"MegaKosT/RuDevSberDS\")"
   ]
  },
  {
   "cell_type": "code",
   "execution_count": 28,
   "id": "b035d5fd",
   "metadata": {},
   "outputs": [
    {
     "data": {
      "text/plain": [
       "43576"
      ]
     },
     "execution_count": 28,
     "metadata": {},
     "output_type": "execute_result"
    }
   ],
   "source": [
    "len(ds['train'])"
   ]
  },
  {
   "cell_type": "code",
   "execution_count": 29,
   "id": "71a2a988",
   "metadata": {},
   "outputs": [
    {
     "data": {
      "text/plain": [
       "'2.9.0'"
      ]
     },
     "execution_count": 29,
     "metadata": {},
     "output_type": "execute_result"
    }
   ],
   "source": [
    "import datasets\n",
    "datasets.__version__"
   ]
  },
  {
   "cell_type": "code",
   "execution_count": 30,
   "id": "4b4415e6",
   "metadata": {},
   "outputs": [
    {
     "name": "stdout",
     "output_type": "stream",
     "text": [
      "1.13.1+cu117\n",
      "0.13.1+cu117\n"
     ]
    }
   ],
   "source": [
    "print(torch.__version__)\n",
    "print(torchaudio.__version__)"
   ]
  },
  {
   "cell_type": "code",
   "execution_count": 31,
   "id": "b61046a4",
   "metadata": {},
   "outputs": [
    {
     "data": {
      "text/plain": [
       "{'path': '00003ec0-1257-42d1-b475-db1cd548092e.wav',\n",
       " 'array': array([ 0.00787354,  0.00735474,  0.00714111, ..., -0.00018311,\n",
       "        -0.00015259, -0.00018311]),\n",
       " 'sampling_rate': 16000}"
      ]
     },
     "execution_count": 31,
     "metadata": {},
     "output_type": "execute_result"
    }
   ],
   "source": [
    "ds['train'][0]['audio']"
   ]
  },
  {
   "cell_type": "code",
   "execution_count": 34,
   "id": "9190aff2",
   "metadata": {},
   "outputs": [],
   "source": [
    "ds_train = ds['train'] #.select(range(5000))\n",
    "ds_test = ds['test'] #.select(range(1500))\n",
    "# len(ds_train)"
   ]
  },
  {
   "cell_type": "code",
   "execution_count": 35,
   "id": "4ff51cfe",
   "metadata": {},
   "outputs": [
    {
     "data": {
      "text/plain": [
       "{'path': '00003ec0-1257-42d1-b475-db1cd548092e.wav',\n",
       " 'array': array([ 0.00787354,  0.00735474,  0.00714111, ..., -0.00018311,\n",
       "        -0.00015259, -0.00018311]),\n",
       " 'sampling_rate': 16000}"
      ]
     },
     "execution_count": 35,
     "metadata": {},
     "output_type": "execute_result"
    }
   ],
   "source": [
    "ds_train[0]['audio']"
   ]
  },
  {
   "cell_type": "code",
   "execution_count": 36,
   "id": "e03124fa",
   "metadata": {},
   "outputs": [
    {
     "name": "stderr",
     "output_type": "stream",
     "text": [
      "100%|██████████| 44/44 [00:21<00:00,  2.05ba/s]\n",
      "100%|██████████| 10/10 [00:04<00:00,  2.28ba/s]\n"
     ]
    }
   ],
   "source": [
    "ds_train = ds_train.filter(\n",
    "    lambda it1: (it1[\"transcription\"] is not None) and (len(it1[\"transcription\"].strip()) > 0)\n",
    ")\n",
    "ds_test = ds_test.filter(\n",
    "    lambda it1: (it1[\"transcription\"] is not None) and (len(it1[\"transcription\"].strip()) > 0)\n",
    ")"
   ]
  },
  {
   "cell_type": "code",
   "execution_count": 37,
   "id": "aa9882a3",
   "metadata": {},
   "outputs": [
    {
     "name": "stderr",
     "output_type": "stream",
     "text": [
      "loading configuration file preprocessor_config.json from cache at /root/.cache/huggingface/hub/models--bond005--wav2vec2-large-ru-golos/snapshots/baa806852e641a9fa953ec1cc33de339ea02f9ae/preprocessor_config.json\n",
      "Feature extractor Wav2Vec2FeatureExtractor {\n",
      "  \"do_normalize\": true,\n",
      "  \"feature_extractor_type\": \"Wav2Vec2FeatureExtractor\",\n",
      "  \"feature_size\": 1,\n",
      "  \"padding_side\": \"right\",\n",
      "  \"padding_value\": 0.0,\n",
      "  \"return_attention_mask\": true,\n",
      "  \"sampling_rate\": 16000\n",
      "}\n",
      "\n",
      "loading configuration file config.json from cache at /root/.cache/huggingface/hub/models--bond005--wav2vec2-large-ru-golos/snapshots/baa806852e641a9fa953ec1cc33de339ea02f9ae/config.json\n",
      "Model config Wav2Vec2Config {\n",
      "  \"_name_or_path\": \"bond005/wav2vec2-large-ru-golos\",\n",
      "  \"activation_dropout\": 0.0,\n",
      "  \"adapter_kernel_size\": 3,\n",
      "  \"adapter_stride\": 2,\n",
      "  \"add_adapter\": false,\n",
      "  \"apply_spec_augment\": true,\n",
      "  \"architectures\": [\n",
      "    \"Wav2Vec2ForCTC\"\n",
      "  ],\n",
      "  \"attention_dropout\": 0.0,\n",
      "  \"bos_token_id\": 1,\n",
      "  \"classifier_proj_size\": 256,\n",
      "  \"codevector_dim\": 768,\n",
      "  \"contrastive_logits_temperature\": 0.1,\n",
      "  \"conv_bias\": true,\n",
      "  \"conv_dim\": [\n",
      "    512,\n",
      "    512,\n",
      "    512,\n",
      "    512,\n",
      "    512,\n",
      "    512,\n",
      "    512\n",
      "  ],\n",
      "  \"conv_kernel\": [\n",
      "    10,\n",
      "    3,\n",
      "    3,\n",
      "    3,\n",
      "    3,\n",
      "    2,\n",
      "    2\n",
      "  ],\n",
      "  \"conv_stride\": [\n",
      "    5,\n",
      "    2,\n",
      "    2,\n",
      "    2,\n",
      "    2,\n",
      "    2,\n",
      "    2\n",
      "  ],\n",
      "  \"ctc_loss_reduction\": \"mean\",\n",
      "  \"ctc_zero_infinity\": true,\n",
      "  \"diversity_loss_weight\": 0.1,\n",
      "  \"do_stable_layer_norm\": true,\n",
      "  \"eos_token_id\": 2,\n",
      "  \"feat_extract_activation\": \"gelu\",\n",
      "  \"feat_extract_dropout\": 0.0,\n",
      "  \"feat_extract_norm\": \"layer\",\n",
      "  \"feat_proj_dropout\": 0.0,\n",
      "  \"feat_quantizer_dropout\": 0.0,\n",
      "  \"final_dropout\": 0.0,\n",
      "  \"hidden_act\": \"gelu\",\n",
      "  \"hidden_dropout\": 0.0,\n",
      "  \"hidden_size\": 1024,\n",
      "  \"initializer_range\": 0.02,\n",
      "  \"intermediate_size\": 4096,\n",
      "  \"layer_norm_eps\": 1e-05,\n",
      "  \"layerdrop\": 0.0,\n",
      "  \"mask_channel_length\": 10,\n",
      "  \"mask_channel_min_space\": 1,\n",
      "  \"mask_channel_other\": 0.0,\n",
      "  \"mask_channel_prob\": 0.0,\n",
      "  \"mask_channel_selection\": \"static\",\n",
      "  \"mask_feature_length\": 10,\n",
      "  \"mask_feature_min_masks\": 0,\n",
      "  \"mask_feature_prob\": 0.0,\n",
      "  \"mask_time_length\": 10,\n",
      "  \"mask_time_min_masks\": 2,\n",
      "  \"mask_time_min_space\": 1,\n",
      "  \"mask_time_other\": 0.0,\n",
      "  \"mask_time_prob\": 0.05,\n",
      "  \"mask_time_selection\": \"static\",\n",
      "  \"model_type\": \"wav2vec2\",\n",
      "  \"num_adapter_layers\": 3,\n",
      "  \"num_attention_heads\": 16,\n",
      "  \"num_codevector_groups\": 2,\n",
      "  \"num_codevectors_per_group\": 320,\n",
      "  \"num_conv_pos_embedding_groups\": 16,\n",
      "  \"num_conv_pos_embeddings\": 128,\n",
      "  \"num_feat_extract_layers\": 7,\n",
      "  \"num_hidden_layers\": 24,\n",
      "  \"num_negatives\": 100,\n",
      "  \"output_hidden_size\": 1024,\n",
      "  \"pad_token_id\": 0,\n",
      "  \"proj_codevector_dim\": 768,\n",
      "  \"tdnn_dilation\": [\n",
      "    1,\n",
      "    2,\n",
      "    3,\n",
      "    1,\n",
      "    1\n",
      "  ],\n",
      "  \"tdnn_dim\": [\n",
      "    512,\n",
      "    512,\n",
      "    512,\n",
      "    512,\n",
      "    1500\n",
      "  ],\n",
      "  \"tdnn_kernel\": [\n",
      "    5,\n",
      "    3,\n",
      "    3,\n",
      "    1,\n",
      "    1\n",
      "  ],\n",
      "  \"torch_dtype\": \"float32\",\n",
      "  \"transformers_version\": \"4.25.1\",\n",
      "  \"use_weighted_layer_sum\": false,\n",
      "  \"vocab_size\": 37,\n",
      "  \"xvector_output_dim\": 512\n",
      "}\n",
      "\n",
      "loading file vocab.json from cache at /root/.cache/huggingface/hub/models--bond005--wav2vec2-large-ru-golos/snapshots/baa806852e641a9fa953ec1cc33de339ea02f9ae/vocab.json\n",
      "loading file tokenizer_config.json from cache at /root/.cache/huggingface/hub/models--bond005--wav2vec2-large-ru-golos/snapshots/baa806852e641a9fa953ec1cc33de339ea02f9ae/tokenizer_config.json\n",
      "loading file added_tokens.json from cache at None\n",
      "loading file special_tokens_map.json from cache at /root/.cache/huggingface/hub/models--bond005--wav2vec2-large-ru-golos/snapshots/baa806852e641a9fa953ec1cc33de339ea02f9ae/special_tokens_map.json\n",
      "loading configuration file config.json from cache at /root/.cache/huggingface/hub/models--bond005--wav2vec2-large-ru-golos/snapshots/baa806852e641a9fa953ec1cc33de339ea02f9ae/config.json\n",
      "Model config Wav2Vec2Config {\n",
      "  \"_name_or_path\": \"bond005/wav2vec2-large-ru-golos\",\n",
      "  \"activation_dropout\": 0.0,\n",
      "  \"adapter_kernel_size\": 3,\n",
      "  \"adapter_stride\": 2,\n",
      "  \"add_adapter\": false,\n",
      "  \"apply_spec_augment\": true,\n",
      "  \"architectures\": [\n",
      "    \"Wav2Vec2ForCTC\"\n",
      "  ],\n",
      "  \"attention_dropout\": 0.0,\n",
      "  \"bos_token_id\": 1,\n",
      "  \"classifier_proj_size\": 256,\n",
      "  \"codevector_dim\": 768,\n",
      "  \"contrastive_logits_temperature\": 0.1,\n",
      "  \"conv_bias\": true,\n",
      "  \"conv_dim\": [\n",
      "    512,\n",
      "    512,\n",
      "    512,\n",
      "    512,\n",
      "    512,\n",
      "    512,\n",
      "    512\n",
      "  ],\n",
      "  \"conv_kernel\": [\n",
      "    10,\n",
      "    3,\n",
      "    3,\n",
      "    3,\n",
      "    3,\n",
      "    2,\n",
      "    2\n",
      "  ],\n",
      "  \"conv_stride\": [\n",
      "    5,\n",
      "    2,\n",
      "    2,\n",
      "    2,\n",
      "    2,\n",
      "    2,\n",
      "    2\n",
      "  ],\n",
      "  \"ctc_loss_reduction\": \"mean\",\n",
      "  \"ctc_zero_infinity\": true,\n",
      "  \"diversity_loss_weight\": 0.1,\n",
      "  \"do_stable_layer_norm\": true,\n",
      "  \"eos_token_id\": 2,\n",
      "  \"feat_extract_activation\": \"gelu\",\n",
      "  \"feat_extract_dropout\": 0.0,\n",
      "  \"feat_extract_norm\": \"layer\",\n",
      "  \"feat_proj_dropout\": 0.0,\n",
      "  \"feat_quantizer_dropout\": 0.0,\n",
      "  \"final_dropout\": 0.0,\n",
      "  \"hidden_act\": \"gelu\",\n",
      "  \"hidden_dropout\": 0.0,\n",
      "  \"hidden_size\": 1024,\n",
      "  \"initializer_range\": 0.02,\n",
      "  \"intermediate_size\": 4096,\n",
      "  \"layer_norm_eps\": 1e-05,\n",
      "  \"layerdrop\": 0.0,\n",
      "  \"mask_channel_length\": 10,\n",
      "  \"mask_channel_min_space\": 1,\n",
      "  \"mask_channel_other\": 0.0,\n",
      "  \"mask_channel_prob\": 0.0,\n",
      "  \"mask_channel_selection\": \"static\",\n",
      "  \"mask_feature_length\": 10,\n",
      "  \"mask_feature_min_masks\": 0,\n",
      "  \"mask_feature_prob\": 0.0,\n",
      "  \"mask_time_length\": 10,\n",
      "  \"mask_time_min_masks\": 2,\n",
      "  \"mask_time_min_space\": 1,\n",
      "  \"mask_time_other\": 0.0,\n",
      "  \"mask_time_prob\": 0.05,\n",
      "  \"mask_time_selection\": \"static\",\n",
      "  \"model_type\": \"wav2vec2\",\n",
      "  \"num_adapter_layers\": 3,\n",
      "  \"num_attention_heads\": 16,\n",
      "  \"num_codevector_groups\": 2,\n",
      "  \"num_codevectors_per_group\": 320,\n",
      "  \"num_conv_pos_embedding_groups\": 16,\n",
      "  \"num_conv_pos_embeddings\": 128,\n",
      "  \"num_feat_extract_layers\": 7,\n",
      "  \"num_hidden_layers\": 24,\n",
      "  \"num_negatives\": 100,\n",
      "  \"output_hidden_size\": 1024,\n",
      "  \"pad_token_id\": 0,\n",
      "  \"proj_codevector_dim\": 768,\n",
      "  \"tdnn_dilation\": [\n",
      "    1,\n",
      "    2,\n",
      "    3,\n",
      "    1,\n",
      "    1\n",
      "  ],\n",
      "  \"tdnn_dim\": [\n",
      "    512,\n",
      "    512,\n",
      "    512,\n",
      "    512,\n",
      "    1500\n",
      "  ],\n",
      "  \"tdnn_kernel\": [\n",
      "    5,\n",
      "    3,\n",
      "    3,\n",
      "    1,\n",
      "    1\n",
      "  ],\n",
      "  \"torch_dtype\": \"float32\",\n",
      "  \"transformers_version\": \"4.25.1\",\n",
      "  \"use_weighted_layer_sum\": false,\n",
      "  \"vocab_size\": 37,\n",
      "  \"xvector_output_dim\": 512\n",
      "}\n",
      "\n",
      "loading configuration file config.json from cache at /root/.cache/huggingface/hub/models--bond005--wav2vec2-large-ru-golos/snapshots/baa806852e641a9fa953ec1cc33de339ea02f9ae/config.json\n",
      "Model config Wav2Vec2Config {\n",
      "  \"_name_or_path\": \"bond005/wav2vec2-large-ru-golos\",\n",
      "  \"activation_dropout\": 0.0,\n",
      "  \"adapter_kernel_size\": 3,\n",
      "  \"adapter_stride\": 2,\n",
      "  \"add_adapter\": false,\n",
      "  \"apply_spec_augment\": true,\n",
      "  \"architectures\": [\n",
      "    \"Wav2Vec2ForCTC\"\n",
      "  ],\n",
      "  \"attention_dropout\": 0.0,\n",
      "  \"bos_token_id\": 1,\n",
      "  \"classifier_proj_size\": 256,\n",
      "  \"codevector_dim\": 768,\n",
      "  \"contrastive_logits_temperature\": 0.1,\n",
      "  \"conv_bias\": true,\n",
      "  \"conv_dim\": [\n",
      "    512,\n",
      "    512,\n",
      "    512,\n",
      "    512,\n",
      "    512,\n",
      "    512,\n",
      "    512\n",
      "  ],\n",
      "  \"conv_kernel\": [\n",
      "    10,\n",
      "    3,\n",
      "    3,\n",
      "    3,\n",
      "    3,\n",
      "    2,\n",
      "    2\n",
      "  ],\n",
      "  \"conv_stride\": [\n",
      "    5,\n",
      "    2,\n",
      "    2,\n",
      "    2,\n",
      "    2,\n",
      "    2,\n",
      "    2\n",
      "  ],\n",
      "  \"ctc_loss_reduction\": \"mean\",\n",
      "  \"ctc_zero_infinity\": true,\n",
      "  \"diversity_loss_weight\": 0.1,\n",
      "  \"do_stable_layer_norm\": true,\n",
      "  \"eos_token_id\": 2,\n",
      "  \"feat_extract_activation\": \"gelu\",\n",
      "  \"feat_extract_dropout\": 0.0,\n",
      "  \"feat_extract_norm\": \"layer\",\n",
      "  \"feat_proj_dropout\": 0.0,\n",
      "  \"feat_quantizer_dropout\": 0.0,\n",
      "  \"final_dropout\": 0.0,\n",
      "  \"hidden_act\": \"gelu\",\n",
      "  \"hidden_dropout\": 0.0,\n",
      "  \"hidden_size\": 1024,\n",
      "  \"initializer_range\": 0.02,\n",
      "  \"intermediate_size\": 4096,\n",
      "  \"layer_norm_eps\": 1e-05,\n",
      "  \"layerdrop\": 0.0,\n",
      "  \"mask_channel_length\": 10,\n",
      "  \"mask_channel_min_space\": 1,\n",
      "  \"mask_channel_other\": 0.0,\n",
      "  \"mask_channel_prob\": 0.0,\n",
      "  \"mask_channel_selection\": \"static\",\n",
      "  \"mask_feature_length\": 10,\n",
      "  \"mask_feature_min_masks\": 0,\n",
      "  \"mask_feature_prob\": 0.0,\n",
      "  \"mask_time_length\": 10,\n",
      "  \"mask_time_min_masks\": 2,\n",
      "  \"mask_time_min_space\": 1,\n",
      "  \"mask_time_other\": 0.0,\n",
      "  \"mask_time_prob\": 0.05,\n",
      "  \"mask_time_selection\": \"static\",\n",
      "  \"model_type\": \"wav2vec2\",\n",
      "  \"num_adapter_layers\": 3,\n",
      "  \"num_attention_heads\": 16,\n",
      "  \"num_codevector_groups\": 2,\n",
      "  \"num_codevectors_per_group\": 320,\n",
      "  \"num_conv_pos_embedding_groups\": 16,\n",
      "  \"num_conv_pos_embeddings\": 128,\n",
      "  \"num_feat_extract_layers\": 7,\n",
      "  \"num_hidden_layers\": 24,\n",
      "  \"num_negatives\": 100,\n",
      "  \"output_hidden_size\": 1024,\n",
      "  \"pad_token_id\": 0,\n",
      "  \"proj_codevector_dim\": 768,\n",
      "  \"tdnn_dilation\": [\n",
      "    1,\n",
      "    2,\n",
      "    3,\n",
      "    1,\n",
      "    1\n",
      "  ],\n",
      "  \"tdnn_dim\": [\n",
      "    512,\n",
      "    512,\n",
      "    512,\n",
      "    512,\n",
      "    1500\n",
      "  ],\n",
      "  \"tdnn_kernel\": [\n",
      "    5,\n",
      "    3,\n",
      "    3,\n",
      "    1,\n",
      "    1\n",
      "  ],\n",
      "  \"torch_dtype\": \"float32\",\n",
      "  \"transformers_version\": \"4.25.1\",\n",
      "  \"use_weighted_layer_sum\": false,\n",
      "  \"vocab_size\": 37,\n",
      "  \"xvector_output_dim\": 512\n",
      "}\n",
      "\n",
      "loading weights file pytorch_model.bin from cache at /root/.cache/huggingface/hub/models--bond005--wav2vec2-large-ru-golos/snapshots/baa806852e641a9fa953ec1cc33de339ea02f9ae/pytorch_model.bin\n",
      "All model checkpoint weights were used when initializing Wav2Vec2ForCTC.\n",
      "\n",
      "All the weights of Wav2Vec2ForCTC were initialized from the model checkpoint at bond005/wav2vec2-large-ru-golos.\n",
      "If your task is similar to the task the model of the checkpoint was trained on, you can already use Wav2Vec2ForCTC for predictions without further training.\n"
     ]
    }
   ],
   "source": [
    "processor = Wav2Vec2Processor.from_pretrained(\"bond005/wav2vec2-large-ru-golos\")\n",
    "model = Wav2Vec2ForCTC.from_pretrained(\"bond005/wav2vec2-large-ru-golos\")"
   ]
  },
  {
   "cell_type": "code",
   "execution_count": 39,
   "id": "0d00ae45",
   "metadata": {},
   "outputs": [
    {
     "name": "stdout",
     "output_type": "stream",
     "text": [
      "00003ec0-1257-42d1-b475-db1cd548092e.wav\n"
     ]
    }
   ],
   "source": [
    "print(ds_train[0]['audio'][\"path\"])"
   ]
  },
  {
   "cell_type": "code",
   "execution_count": 40,
   "id": "ffdeacfe",
   "metadata": {},
   "outputs": [
    {
     "name": "stdout",
     "output_type": "stream",
     "text": [
      "мы в школе писали физру\n"
     ]
    },
    {
     "data": {
      "text/html": [
       "\n",
       "                <audio  controls=\"controls\" autoplay=\"autoplay\">\n",
       "                    <source src=\"data:audio/wav;base64,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\" type=\"audio/wav\" />\n",
       "                    Your browser does not support the audio element.\n",
       "                </audio>\n",
       "              "
      ],
      "text/plain": [
       "<IPython.lib.display.Audio object>"
      ]
     },
     "execution_count": 40,
     "metadata": {},
     "output_type": "execute_result"
    }
   ],
   "source": [
    "import IPython.display as ipd\n",
    "import numpy as np\n",
    "import random\n",
    "\n",
    "rand_int = random.randint(0, len(ds_train)-1)\n",
    "\n",
    "print(ds_train[rand_int][\"transcription\"])\n",
    "ipd.Audio(data=ds_train[rand_int][\"audio\"][\"array\"], autoplay=True, rate=16000)\n"
   ]
  },
  {
   "cell_type": "code",
   "execution_count": 41,
   "id": "3c93c253",
   "metadata": {},
   "outputs": [],
   "source": [
    "def plot_waveform(waveform, sample_rate, title=\"Waveform\", xlim=None):\n",
    "    waveform = waveform.numpy()\n",
    "\n",
    "    num_channels, num_frames = waveform.shape\n",
    "    time_axis = torch.arange(0, num_frames) / sample_rate\n",
    "\n",
    "    figure, axes = plt.subplots(num_channels, 1)\n",
    "    if num_channels == 1:\n",
    "        axes = [axes]\n",
    "    for c in range(num_channels):\n",
    "        axes[c].plot(time_axis, waveform[c], linewidth=1)\n",
    "        axes[c].grid(True)\n",
    "        if num_channels > 1:\n",
    "            axes[c].set_ylabel(f\"Channel {c+1}\")\n",
    "        if xlim:\n",
    "            axes[c].set_xlim(xlim)\n",
    "    figure.suptitle(title)\n",
    "    plt.show(block=False)"
   ]
  },
  {
   "cell_type": "code",
   "execution_count": 42,
   "id": "80a65dc6",
   "metadata": {},
   "outputs": [],
   "source": [
    "def plot_specgram(waveform, sample_rate, title=\"Spectrogram\", xlim=None):\n",
    "    waveform = waveform.numpy()\n",
    "\n",
    "    num_channels, _ = waveform.shape\n",
    "\n",
    "    figure, axes = plt.subplots(num_channels, 1)\n",
    "    if num_channels == 1:\n",
    "        axes = [axes]\n",
    "    for c in range(num_channels):\n",
    "        axes[c].specgram(waveform[c], Fs=sample_rate)\n",
    "        if num_channels > 1:\n",
    "            axes[c].set_ylabel(f\"Channel {c+1}\")\n",
    "        if xlim:\n",
    "            axes[c].set_xlim(xlim)\n",
    "    figure.suptitle(title)\n",
    "    plt.show(block=False)"
   ]
  },
  {
   "cell_type": "code",
   "execution_count": 50,
   "id": "d51a31ae",
   "metadata": {},
   "outputs": [],
   "source": [
    "def aug_audio(SAMPLE_WAV):\n",
    "    # Load the data\n",
    "    waveform1 = SAMPLE_WAV.get('array')\n",
    "    sample_rate1 = SAMPLE_WAV.get('sampling_rate')\n",
    "    \n",
    "    # Define effects\n",
    "    effects = [\n",
    "        [\"lowpass\", \"-1\", \"300\"],  # apply single-pole lowpass filter\n",
    "        [\"speed\", \"0.8\"],  # reduce the speed\n",
    "        # This only changes sample rate, so it is necessary to\n",
    "        # add `rate` effect with original sample rate after this.\n",
    "        [\"rate\", f\"{sample_rate1}\"],\n",
    "        [\"reverb\", \"-w\"],  # Reverbration gives some dramatic feeling\n",
    "    ]\n",
    "\n",
    "    # Apply effects\n",
    "    waveform2, sample_rate2 = torchaudio.sox_effects.apply_effects_tensor(waveform1, sample_rate1, effects)\n",
    "\n",
    "    print(waveform1.shape, sample_rate1)\n",
    "    print(waveform2.shape, sample_rate2)\n",
    "    plot_waveform(waveform1, sample_rate1, title=\"Original\", xlim=(-0.1, 3.2))\n",
    "    plot_specgram(waveform1, sample_rate1, title=\"Original\", xlim=(0, 3.04))\n",
    "    Audio(waveform1, rate=sample_rate1)"
   ]
  },
  {
   "cell_type": "code",
   "execution_count": 51,
   "id": "67a5df0c",
   "metadata": {},
   "outputs": [
    {
     "name": "stdout",
     "output_type": "stream",
     "text": [
      "так что вот эти все не знаю\n"
     ]
    },
    {
     "ename": "RuntimeError",
     "evalue": "torchaudio::sox_effects_apply_effects_tensor() Expected a value of type 'Tensor' for argument '_0' but instead found type 'ndarray'.\nPosition: 0\nValue: array([ 0.00015259,  0.00027466,  0.00045776, ..., -0.00479126,\n       -0.00448608, -0.0050354 ])\nDeclaration: torchaudio::sox_effects_apply_effects_tensor(Tensor _0, int _1, str[][] _2, bool _3) -> (Tensor _0, int _1)\nCast error details: Unable to cast [ 0.00015259  0.00027466  0.00045776 ... -0.00479126 -0.00448608\n -0.0050354 ] to Tensor",
     "output_type": "error",
     "traceback": [
      "\u001b[0;31m---------------------------------------------------------------------------\u001b[0m",
      "\u001b[0;31mRuntimeError\u001b[0m                              Traceback (most recent call last)",
      "Cell \u001b[0;32mIn[51], line 3\u001b[0m\n\u001b[1;32m      1\u001b[0m rand_int \u001b[38;5;241m=\u001b[39m random\u001b[38;5;241m.\u001b[39mrandint(\u001b[38;5;241m0\u001b[39m, \u001b[38;5;28mlen\u001b[39m(ds_train)\u001b[38;5;241m-\u001b[39m\u001b[38;5;241m1\u001b[39m)\n\u001b[1;32m      2\u001b[0m \u001b[38;5;28mprint\u001b[39m(ds_train[rand_int][\u001b[38;5;124m\"\u001b[39m\u001b[38;5;124mtranscription\u001b[39m\u001b[38;5;124m\"\u001b[39m])\n\u001b[0;32m----> 3\u001b[0m \u001b[43maug_audio\u001b[49m\u001b[43m(\u001b[49m\u001b[43mds_train\u001b[49m\u001b[43m[\u001b[49m\u001b[43mrand_int\u001b[49m\u001b[43m]\u001b[49m\u001b[43m[\u001b[49m\u001b[38;5;124;43m\"\u001b[39;49m\u001b[38;5;124;43maudio\u001b[39;49m\u001b[38;5;124;43m\"\u001b[39;49m\u001b[43m]\u001b[49m\u001b[43m)\u001b[49m\n",
      "Cell \u001b[0;32mIn[50], line 17\u001b[0m, in \u001b[0;36maug_audio\u001b[0;34m(SAMPLE_WAV)\u001b[0m\n\u001b[1;32m      7\u001b[0m effects \u001b[38;5;241m=\u001b[39m [\n\u001b[1;32m      8\u001b[0m     [\u001b[38;5;124m\"\u001b[39m\u001b[38;5;124mlowpass\u001b[39m\u001b[38;5;124m\"\u001b[39m, \u001b[38;5;124m\"\u001b[39m\u001b[38;5;124m-1\u001b[39m\u001b[38;5;124m\"\u001b[39m, \u001b[38;5;124m\"\u001b[39m\u001b[38;5;124m300\u001b[39m\u001b[38;5;124m\"\u001b[39m],  \u001b[38;5;66;03m# apply single-pole lowpass filter\u001b[39;00m\n\u001b[1;32m      9\u001b[0m     [\u001b[38;5;124m\"\u001b[39m\u001b[38;5;124mspeed\u001b[39m\u001b[38;5;124m\"\u001b[39m, \u001b[38;5;124m\"\u001b[39m\u001b[38;5;124m0.8\u001b[39m\u001b[38;5;124m\"\u001b[39m],  \u001b[38;5;66;03m# reduce the speed\u001b[39;00m\n\u001b[0;32m   (...)\u001b[0m\n\u001b[1;32m     13\u001b[0m     [\u001b[38;5;124m\"\u001b[39m\u001b[38;5;124mreverb\u001b[39m\u001b[38;5;124m\"\u001b[39m, \u001b[38;5;124m\"\u001b[39m\u001b[38;5;124m-w\u001b[39m\u001b[38;5;124m\"\u001b[39m],  \u001b[38;5;66;03m# Reverbration gives some dramatic feeling\u001b[39;00m\n\u001b[1;32m     14\u001b[0m ]\n\u001b[1;32m     16\u001b[0m \u001b[38;5;66;03m# Apply effects\u001b[39;00m\n\u001b[0;32m---> 17\u001b[0m waveform2, sample_rate2 \u001b[38;5;241m=\u001b[39m \u001b[43mtorchaudio\u001b[49m\u001b[38;5;241;43m.\u001b[39;49m\u001b[43msox_effects\u001b[49m\u001b[38;5;241;43m.\u001b[39;49m\u001b[43mapply_effects_tensor\u001b[49m\u001b[43m(\u001b[49m\u001b[43mwaveform1\u001b[49m\u001b[43m,\u001b[49m\u001b[43m \u001b[49m\u001b[43msample_rate1\u001b[49m\u001b[43m,\u001b[49m\u001b[43m \u001b[49m\u001b[43meffects\u001b[49m\u001b[43m)\u001b[49m\n\u001b[1;32m     19\u001b[0m \u001b[38;5;28mprint\u001b[39m(waveform1\u001b[38;5;241m.\u001b[39mshape, sample_rate1)\n\u001b[1;32m     20\u001b[0m \u001b[38;5;28mprint\u001b[39m(waveform2\u001b[38;5;241m.\u001b[39mshape, sample_rate2)\n",
      "File \u001b[0;32m/usr/local/lib/python3.8/dist-packages/torchaudio/sox_effects/sox_effects.py:155\u001b[0m, in \u001b[0;36mapply_effects_tensor\u001b[0;34m(tensor, sample_rate, effects, channels_first)\u001b[0m\n\u001b[1;32m     53\u001b[0m \u001b[38;5;129m@_mod_utils\u001b[39m\u001b[38;5;241m.\u001b[39mrequires_sox()\n\u001b[1;32m     54\u001b[0m \u001b[38;5;28;01mdef\u001b[39;00m \u001b[38;5;21mapply_effects_tensor\u001b[39m(\n\u001b[1;32m     55\u001b[0m     tensor: torch\u001b[38;5;241m.\u001b[39mTensor,\n\u001b[0;32m   (...)\u001b[0m\n\u001b[1;32m     58\u001b[0m     channels_first: \u001b[38;5;28mbool\u001b[39m \u001b[38;5;241m=\u001b[39m \u001b[38;5;28;01mTrue\u001b[39;00m,\n\u001b[1;32m     59\u001b[0m ) \u001b[38;5;241m-\u001b[39m\u001b[38;5;241m>\u001b[39m Tuple[torch\u001b[38;5;241m.\u001b[39mTensor, \u001b[38;5;28mint\u001b[39m]:\n\u001b[1;32m     60\u001b[0m     \u001b[38;5;124;03m\"\"\"Apply sox effects to given Tensor\u001b[39;00m\n\u001b[1;32m     61\u001b[0m \n\u001b[1;32m     62\u001b[0m \u001b[38;5;124;03m    .. devices:: CPU\u001b[39;00m\n\u001b[0;32m   (...)\u001b[0m\n\u001b[1;32m    153\u001b[0m \u001b[38;5;124;03m        >>> assert sample_rate == 8000\u001b[39;00m\n\u001b[1;32m    154\u001b[0m \u001b[38;5;124;03m    \"\"\"\u001b[39;00m\n\u001b[0;32m--> 155\u001b[0m     \u001b[38;5;28;01mreturn\u001b[39;00m \u001b[43mtorch\u001b[49m\u001b[38;5;241;43m.\u001b[39;49m\u001b[43mops\u001b[49m\u001b[38;5;241;43m.\u001b[39;49m\u001b[43mtorchaudio\u001b[49m\u001b[38;5;241;43m.\u001b[39;49m\u001b[43msox_effects_apply_effects_tensor\u001b[49m\u001b[43m(\u001b[49m\u001b[43mtensor\u001b[49m\u001b[43m,\u001b[49m\u001b[43m \u001b[49m\u001b[43msample_rate\u001b[49m\u001b[43m,\u001b[49m\u001b[43m \u001b[49m\u001b[43meffects\u001b[49m\u001b[43m,\u001b[49m\u001b[43m \u001b[49m\u001b[43mchannels_first\u001b[49m\u001b[43m)\u001b[49m\n",
      "File \u001b[0;32m/usr/local/lib/python3.8/dist-packages/torch/_ops.py:442\u001b[0m, in \u001b[0;36mOpOverloadPacket.__call__\u001b[0;34m(self, *args, **kwargs)\u001b[0m\n\u001b[1;32m    437\u001b[0m \u001b[38;5;28;01mdef\u001b[39;00m \u001b[38;5;21m__call__\u001b[39m(\u001b[38;5;28mself\u001b[39m, \u001b[38;5;241m*\u001b[39margs, \u001b[38;5;241m*\u001b[39m\u001b[38;5;241m*\u001b[39mkwargs):\n\u001b[1;32m    438\u001b[0m     \u001b[38;5;66;03m# overloading __call__ to ensure torch.ops.foo.bar()\u001b[39;00m\n\u001b[1;32m    439\u001b[0m     \u001b[38;5;66;03m# is still callable from JIT\u001b[39;00m\n\u001b[1;32m    440\u001b[0m     \u001b[38;5;66;03m# We save the function ptr as the `op` attribute on\u001b[39;00m\n\u001b[1;32m    441\u001b[0m     \u001b[38;5;66;03m# OpOverloadPacket to access it here.\u001b[39;00m\n\u001b[0;32m--> 442\u001b[0m     \u001b[38;5;28;01mreturn\u001b[39;00m \u001b[38;5;28;43mself\u001b[39;49m\u001b[38;5;241;43m.\u001b[39;49m\u001b[43m_op\u001b[49m\u001b[43m(\u001b[49m\u001b[38;5;241;43m*\u001b[39;49m\u001b[43margs\u001b[49m\u001b[43m,\u001b[49m\u001b[43m \u001b[49m\u001b[38;5;241;43m*\u001b[39;49m\u001b[38;5;241;43m*\u001b[39;49m\u001b[43mkwargs\u001b[49m\u001b[43m \u001b[49m\u001b[38;5;129;43;01mor\u001b[39;49;00m\u001b[43m \u001b[49m\u001b[43m{\u001b[49m\u001b[43m}\u001b[49m\u001b[43m)\u001b[49m\n",
      "\u001b[0;31mRuntimeError\u001b[0m: torchaudio::sox_effects_apply_effects_tensor() Expected a value of type 'Tensor' for argument '_0' but instead found type 'ndarray'.\nPosition: 0\nValue: array([ 0.00015259,  0.00027466,  0.00045776, ..., -0.00479126,\n       -0.00448608, -0.0050354 ])\nDeclaration: torchaudio::sox_effects_apply_effects_tensor(Tensor _0, int _1, str[][] _2, bool _3) -> (Tensor _0, int _1)\nCast error details: Unable to cast [ 0.00015259  0.00027466  0.00045776 ... -0.00479126 -0.00448608\n -0.0050354 ] to Tensor"
     ]
    }
   ],
   "source": [
    "rand_int = random.randint(0, len(ds_train)-1)\n",
    "print(ds_train[rand_int][\"transcription\"])\n",
    "aug_audio(ds_train[rand_int][\"audio\"])"
   ]
  },
  {
   "cell_type": "code",
   "execution_count": 13,
   "id": "dfb8582e",
   "metadata": {},
   "outputs": [
    {
     "data": {
      "text/plain": [
       "Dataset({\n",
       "    features: ['audio', 'transcription'],\n",
       "    num_rows: 5000\n",
       "})"
      ]
     },
     "execution_count": 13,
     "metadata": {},
     "output_type": "execute_result"
    }
   ],
   "source": [
    "ds_train"
   ]
  },
  {
   "cell_type": "code",
   "execution_count": 14,
   "id": "a35a8dbe",
   "metadata": {},
   "outputs": [
    {
     "name": "stdout",
     "output_type": "stream",
     "text": [
      "Target text: это не совсем правильно понял что именно я имел в виду тогда\n",
      "Input array shape: (59200,)\n",
      "Sampling rate: 16000\n"
     ]
    }
   ],
   "source": [
    "rand_int = random.randint(0, len(ds_train)-1)\n",
    "\n",
    "print(\"Target text:\", ds_train[rand_int][\"transcription\"])\n",
    "print(\"Input array shape:\", ds_train[rand_int][\"audio\"][\"array\"].shape)\n",
    "print(\"Sampling rate:\", ds_train[rand_int][\"audio\"][\"sampling_rate\"])\n"
   ]
  },
  {
   "cell_type": "code",
   "execution_count": 15,
   "id": "0bd89b1e",
   "metadata": {},
   "outputs": [
    {
     "name": "stderr",
     "output_type": "stream",
     "text": [
      "Loading cached processed dataset at /root/.cache/huggingface/datasets/MegaKosT___parquet/MegaKosT--RuDevSberDS-c815bd8b35ec831d/0.0.0/2a3b91fbd88a2c90d1dbbb32b460cf621d31bd5b05b934492fdef7d8d6f236ec/cache-3a7d74e9bafdf3e3.arrow\n",
      "Loading cached processed dataset at /root/.cache/huggingface/datasets/MegaKosT___parquet/MegaKosT--RuDevSberDS-c815bd8b35ec831d/0.0.0/2a3b91fbd88a2c90d1dbbb32b460cf621d31bd5b05b934492fdef7d8d6f236ec/cache-bc472a0ba0177f94.arrow\n"
     ]
    },
    {
     "name": "stdout",
     "output_type": "stream",
     "text": [
      "train\n",
      "test\n"
     ]
    }
   ],
   "source": [
    "def prepare_dataset(batch):\n",
    "    #print(batch)\n",
    "    audio = batch[\"audio\"]\n",
    "\n",
    "    # batched output is \"un-batched\"\n",
    "    batch[\"input_values\"] = processor(audio[\"array\"], sampling_rate=audio[\"sampling_rate\"]).input_values[0]\n",
    "    batch[\"input_length\"] = len(batch[\"input_values\"])\n",
    "    \n",
    "    with processor.as_target_processor():\n",
    "        batch[\"labels\"] = processor(batch[\"transcription\"]).input_ids\n",
    "    return batch\n",
    "\n",
    "ds_train = ds_train.map(prepare_dataset, remove_columns=ds_train.column_names)\n",
    "print('train')\n",
    "ds_test = ds_test.map(prepare_dataset, remove_columns=ds_test.column_names)\n",
    "print('test')"
   ]
  },
  {
   "cell_type": "code",
   "execution_count": 16,
   "id": "38701aae",
   "metadata": {},
   "outputs": [],
   "source": [
    "import torch\n",
    "\n",
    "from dataclasses import dataclass, field\n",
    "from typing import Any, Dict, List, Optional, Union\n",
    "\n",
    "@dataclass\n",
    "class DataCollatorCTCWithPadding:\n",
    "    \"\"\"\n",
    "    Data collator that will dynamically pad the inputs received.\n",
    "    Args:\n",
    "        processor (:class:`~transformers.Wav2Vec2Processor`)\n",
    "            The processor used for proccessing the data.\n",
    "        padding (:obj:`bool`, :obj:`str` or :class:`~transformers.tokenization_utils_base.PaddingStrategy`, `optional`, defaults to :obj:`True`):\n",
    "            Select a strategy to pad the returned sequences (according to the model's padding side and padding index)\n",
    "            among:\n",
    "            * :obj:`True` or :obj:`'longest'`: Pad to the longest sequence in the batch (or no padding if only a single\n",
    "              sequence if provided).\n",
    "            * :obj:`'max_length'`: Pad to a maximum length specified with the argument :obj:`max_length` or to the\n",
    "              maximum acceptable input length for the model if that argument is not provided.\n",
    "            * :obj:`False` or :obj:`'do_not_pad'` (default): No padding (i.e., can output a batch with sequences of\n",
    "              different lengths).\n",
    "    \"\"\"\n",
    "\n",
    "    processor: Wav2Vec2Processor\n",
    "    padding: Union[bool, str] = True\n",
    "\n",
    "    def __call__(self, features: List[Dict[str, Union[List[int], torch.Tensor]]]) -> Dict[str, torch.Tensor]:\n",
    "        # split inputs and labels since they have to be of different lengths and need\n",
    "        # different padding methods\n",
    "        input_features = [{\"input_values\": feature[\"input_values\"]} for feature in features]\n",
    "        label_features = [{\"input_ids\": feature[\"labels\"]} for feature in features]\n",
    "\n",
    "        batch = self.processor.pad(\n",
    "            input_features,\n",
    "            padding=self.padding,\n",
    "            return_tensors=\"pt\",\n",
    "        )\n",
    "        with self.processor.as_target_processor():\n",
    "            labels_batch = self.processor.pad(\n",
    "                label_features,\n",
    "                padding=self.padding,\n",
    "                return_tensors=\"pt\",\n",
    "            )\n",
    "\n",
    "        # replace padding with -100 to ignore loss correctly\n",
    "        labels = labels_batch[\"input_ids\"].masked_fill(labels_batch.attention_mask.ne(1), -100)\n",
    "\n",
    "        batch[\"labels\"] = labels\n",
    "\n",
    "        return batch\n"
   ]
  },
  {
   "cell_type": "code",
   "execution_count": 17,
   "id": "21bfaa25",
   "metadata": {},
   "outputs": [],
   "source": [
    "data_collator = DataCollatorCTCWithPadding(processor=processor, padding=True)"
   ]
  },
  {
   "cell_type": "code",
   "execution_count": 18,
   "id": "cd8fba2b",
   "metadata": {},
   "outputs": [
    {
     "name": "stderr",
     "output_type": "stream",
     "text": [
      "/tmp/ipykernel_1304/2798393314.py:2: FutureWarning: load_metric is deprecated and will be removed in the next major version of datasets. Use 'evaluate.load' instead, from the new library 🤗 Evaluate: https://huggingface.co/docs/evaluate\n",
      "  wer_metric = datasets.load_metric(\"wer\")\n"
     ]
    }
   ],
   "source": [
    "import datasets\n",
    "wer_metric = datasets.load_metric(\"wer\")"
   ]
  },
  {
   "cell_type": "code",
   "execution_count": 19,
   "id": "b4b807a1",
   "metadata": {},
   "outputs": [],
   "source": [
    "def compute_metrics(pred):\n",
    "    pred_logits = pred.predictions\n",
    "    pred_ids = np.argmax(pred_logits, axis=-1)\n",
    "\n",
    "    pred.label_ids[pred.label_ids == -100] = processor.tokenizer.pad_token_id\n",
    "\n",
    "    pred_str = processor.batch_decode(pred_ids)\n",
    "    # we do not want to group tokens when computing the metrics\n",
    "    label_str = processor.batch_decode(pred.label_ids, group_tokens=False)\n",
    "\n",
    "    wer = wer_metric.compute(predictions=pred_str, references=label_str)\n",
    "\n",
    "    return {\"wer\": wer}\n"
   ]
  },
  {
   "cell_type": "code",
   "execution_count": 20,
   "id": "a1ed72d7",
   "metadata": {},
   "outputs": [],
   "source": [
    "model.freeze_feature_encoder()"
   ]
  },
  {
   "cell_type": "code",
   "execution_count": 22,
   "id": "c5a53b3f",
   "metadata": {},
   "outputs": [
    {
     "name": "stderr",
     "output_type": "stream",
     "text": [
      "PyTorch: setting up devices\n",
      "The default value for the training argument `--report_to` will change in v5 (from all installed integrations to none). In v5, you will need to use `--report_to all` to get the same behavior as now. You should start updating your code and make this info disappear :-).\n",
      "/usr/src/app/pisets/pisets/results is already a clone of https://huggingface.co/doooori/results. Make sure you pull the latest changes with `repo.git_pull()`.\n",
      "Using cuda_amp half precision backend\n",
      "The following columns in the training set don't have a corresponding argument in `Wav2Vec2ForCTC.forward` and have been ignored: input_length. If input_length are not expected by `Wav2Vec2ForCTC.forward`,  you can safely ignore this message.\n",
      "/usr/local/lib/python3.8/dist-packages/transformers/optimization.py:306: FutureWarning: This implementation of AdamW is deprecated and will be removed in a future version. Use the PyTorch implementation torch.optim.AdamW instead, or set `no_deprecation_warning=True` to disable this warning\n",
      "  warnings.warn(\n",
      "***** Running training *****\n",
      "  Num examples = 5000\n",
      "  Num Epochs = 30\n",
      "  Instantaneous batch size per device = 16\n",
      "  Total train batch size (w. parallel, distributed & accumulation) = 32\n",
      "  Gradient Accumulation steps = 2\n",
      "  Total optimization steps = 4680\n",
      "  Number of trainable parameters = 311266469\n",
      "/usr/local/lib/python3.8/dist-packages/transformers/models/wav2vec2/processing_wav2vec2.py:155: UserWarning: `as_target_processor` is deprecated and will be removed in v5 of Transformers. You can process your labels by using the argument `text` of the regular `__call__` method (either in the same call as your audio inputs, or in a separate call.\n",
      "  warnings.warn(\n"
     ]
    },
    {
     "data": {
      "text/html": [
       "\n",
       "    <div>\n",
       "      \n",
       "      <progress value='3679' max='4680' style='width:300px; height:20px; vertical-align: middle;'></progress>\n",
       "      [3679/4680 1:28:54 < 24:12, 0.69 it/s, Epoch 23.58/30]\n",
       "    </div>\n",
       "    <table border=\"1\" class=\"dataframe\">\n",
       "  <thead>\n",
       " <tr style=\"text-align: left;\">\n",
       "      <th>Step</th>\n",
       "      <th>Training Loss</th>\n",
       "      <th>Validation Loss</th>\n",
       "      <th>Wer</th>\n",
       "    </tr>\n",
       "  </thead>\n",
       "  <tbody>\n",
       "    <tr>\n",
       "      <td>400</td>\n",
       "      <td>0.666300</td>\n",
       "      <td>0.407194</td>\n",
       "      <td>0.345260</td>\n",
       "    </tr>\n",
       "    <tr>\n",
       "      <td>800</td>\n",
       "      <td>0.532300</td>\n",
       "      <td>0.428288</td>\n",
       "      <td>0.365223</td>\n",
       "    </tr>\n",
       "    <tr>\n",
       "      <td>1200</td>\n",
       "      <td>0.393000</td>\n",
       "      <td>0.450940</td>\n",
       "      <td>0.353650</td>\n",
       "    </tr>\n",
       "    <tr>\n",
       "      <td>1600</td>\n",
       "      <td>0.316700</td>\n",
       "      <td>0.511819</td>\n",
       "      <td>0.377182</td>\n",
       "    </tr>\n",
       "    <tr>\n",
       "      <td>2000</td>\n",
       "      <td>0.252700</td>\n",
       "      <td>0.502363</td>\n",
       "      <td>0.360594</td>\n",
       "    </tr>\n",
       "    <tr>\n",
       "      <td>2400</td>\n",
       "      <td>0.208100</td>\n",
       "      <td>0.531912</td>\n",
       "      <td>0.359919</td>\n",
       "    </tr>\n",
       "    <tr>\n",
       "      <td>2800</td>\n",
       "      <td>0.180500</td>\n",
       "      <td>0.556832</td>\n",
       "      <td>0.348346</td>\n",
       "    </tr>\n",
       "    <tr>\n",
       "      <td>3200</td>\n",
       "      <td>0.149700</td>\n",
       "      <td>0.602786</td>\n",
       "      <td>0.354036</td>\n",
       "    </tr>\n",
       "    <tr>\n",
       "      <td>3600</td>\n",
       "      <td>0.127000</td>\n",
       "      <td>0.590052</td>\n",
       "      <td>0.342077</td>\n",
       "    </tr>\n",
       "  </tbody>\n",
       "</table><p>"
      ],
      "text/plain": [
       "<IPython.core.display.HTML object>"
      ]
     },
     "metadata": {},
     "output_type": "display_data"
    },
    {
     "name": "stderr",
     "output_type": "stream",
     "text": [
      "The following columns in the evaluation set don't have a corresponding argument in `Wav2Vec2ForCTC.forward` and have been ignored: input_length. If input_length are not expected by `Wav2Vec2ForCTC.forward`,  you can safely ignore this message.\n",
      "***** Running Evaluation *****\n",
      "  Num examples = 1495\n",
      "  Batch size = 8\n",
      "Saving model checkpoint to pisets/results/checkpoint-400\n",
      "Configuration saved in pisets/results/checkpoint-400/config.json\n",
      "Model weights saved in pisets/results/checkpoint-400/pytorch_model.bin\n",
      "Feature extractor saved in pisets/results/checkpoint-400/preprocessor_config.json\n",
      "Feature extractor saved in pisets/results/preprocessor_config.json\n",
      "/usr/local/lib/python3.8/dist-packages/transformers/models/wav2vec2/processing_wav2vec2.py:155: UserWarning: `as_target_processor` is deprecated and will be removed in v5 of Transformers. You can process your labels by using the argument `text` of the regular `__call__` method (either in the same call as your audio inputs, or in a separate call.\n",
      "  warnings.warn(\n",
      "The following columns in the evaluation set don't have a corresponding argument in `Wav2Vec2ForCTC.forward` and have been ignored: input_length. If input_length are not expected by `Wav2Vec2ForCTC.forward`,  you can safely ignore this message.\n",
      "***** Running Evaluation *****\n",
      "  Num examples = 1495\n",
      "  Batch size = 8\n",
      "Saving model checkpoint to pisets/results/checkpoint-800\n",
      "Configuration saved in pisets/results/checkpoint-800/config.json\n",
      "Model weights saved in pisets/results/checkpoint-800/pytorch_model.bin\n",
      "Feature extractor saved in pisets/results/checkpoint-800/preprocessor_config.json\n",
      "Feature extractor saved in pisets/results/preprocessor_config.json\n",
      "/usr/local/lib/python3.8/dist-packages/transformers/models/wav2vec2/processing_wav2vec2.py:155: UserWarning: `as_target_processor` is deprecated and will be removed in v5 of Transformers. You can process your labels by using the argument `text` of the regular `__call__` method (either in the same call as your audio inputs, or in a separate call.\n",
      "  warnings.warn(\n",
      "The following columns in the evaluation set don't have a corresponding argument in `Wav2Vec2ForCTC.forward` and have been ignored: input_length. If input_length are not expected by `Wav2Vec2ForCTC.forward`,  you can safely ignore this message.\n",
      "***** Running Evaluation *****\n",
      "  Num examples = 1495\n",
      "  Batch size = 8\n",
      "Saving model checkpoint to pisets/results/checkpoint-1200\n",
      "Configuration saved in pisets/results/checkpoint-1200/config.json\n",
      "Model weights saved in pisets/results/checkpoint-1200/pytorch_model.bin\n",
      "Feature extractor saved in pisets/results/checkpoint-1200/preprocessor_config.json\n",
      "Feature extractor saved in pisets/results/preprocessor_config.json\n",
      "Deleting older checkpoint [pisets/results/checkpoint-400] due to args.save_total_limit\n",
      "/usr/local/lib/python3.8/dist-packages/transformers/models/wav2vec2/processing_wav2vec2.py:155: UserWarning: `as_target_processor` is deprecated and will be removed in v5 of Transformers. You can process your labels by using the argument `text` of the regular `__call__` method (either in the same call as your audio inputs, or in a separate call.\n",
      "  warnings.warn(\n",
      "The following columns in the evaluation set don't have a corresponding argument in `Wav2Vec2ForCTC.forward` and have been ignored: input_length. If input_length are not expected by `Wav2Vec2ForCTC.forward`,  you can safely ignore this message.\n",
      "***** Running Evaluation *****\n",
      "  Num examples = 1495\n",
      "  Batch size = 8\n",
      "Saving model checkpoint to pisets/results/checkpoint-1600\n",
      "Configuration saved in pisets/results/checkpoint-1600/config.json\n",
      "Model weights saved in pisets/results/checkpoint-1600/pytorch_model.bin\n",
      "Feature extractor saved in pisets/results/checkpoint-1600/preprocessor_config.json\n",
      "Feature extractor saved in pisets/results/preprocessor_config.json\n",
      "Deleting older checkpoint [pisets/results/checkpoint-800] due to args.save_total_limit\n",
      "/usr/local/lib/python3.8/dist-packages/transformers/models/wav2vec2/processing_wav2vec2.py:155: UserWarning: `as_target_processor` is deprecated and will be removed in v5 of Transformers. You can process your labels by using the argument `text` of the regular `__call__` method (either in the same call as your audio inputs, or in a separate call.\n",
      "  warnings.warn(\n",
      "The following columns in the evaluation set don't have a corresponding argument in `Wav2Vec2ForCTC.forward` and have been ignored: input_length. If input_length are not expected by `Wav2Vec2ForCTC.forward`,  you can safely ignore this message.\n",
      "***** Running Evaluation *****\n",
      "  Num examples = 1495\n",
      "  Batch size = 8\n",
      "Saving model checkpoint to pisets/results/checkpoint-2000\n",
      "Configuration saved in pisets/results/checkpoint-2000/config.json\n",
      "Model weights saved in pisets/results/checkpoint-2000/pytorch_model.bin\n",
      "Feature extractor saved in pisets/results/checkpoint-2000/preprocessor_config.json\n",
      "Deleting older checkpoint [pisets/results/checkpoint-1200] due to args.save_total_limit\n",
      "/usr/local/lib/python3.8/dist-packages/transformers/models/wav2vec2/processing_wav2vec2.py:155: UserWarning: `as_target_processor` is deprecated and will be removed in v5 of Transformers. You can process your labels by using the argument `text` of the regular `__call__` method (either in the same call as your audio inputs, or in a separate call.\n",
      "  warnings.warn(\n",
      "The following columns in the evaluation set don't have a corresponding argument in `Wav2Vec2ForCTC.forward` and have been ignored: input_length. If input_length are not expected by `Wav2Vec2ForCTC.forward`,  you can safely ignore this message.\n",
      "***** Running Evaluation *****\n",
      "  Num examples = 1495\n",
      "  Batch size = 8\n",
      "Saving model checkpoint to pisets/results/checkpoint-2400\n",
      "Configuration saved in pisets/results/checkpoint-2400/config.json\n",
      "Model weights saved in pisets/results/checkpoint-2400/pytorch_model.bin\n",
      "Feature extractor saved in pisets/results/checkpoint-2400/preprocessor_config.json\n",
      "Deleting older checkpoint [pisets/results/checkpoint-1600] due to args.save_total_limit\n",
      "/usr/local/lib/python3.8/dist-packages/transformers/models/wav2vec2/processing_wav2vec2.py:155: UserWarning: `as_target_processor` is deprecated and will be removed in v5 of Transformers. You can process your labels by using the argument `text` of the regular `__call__` method (either in the same call as your audio inputs, or in a separate call.\n",
      "  warnings.warn(\n",
      "The following columns in the evaluation set don't have a corresponding argument in `Wav2Vec2ForCTC.forward` and have been ignored: input_length. If input_length are not expected by `Wav2Vec2ForCTC.forward`,  you can safely ignore this message.\n",
      "***** Running Evaluation *****\n",
      "  Num examples = 1495\n",
      "  Batch size = 8\n",
      "Saving model checkpoint to pisets/results/checkpoint-2800\n",
      "Configuration saved in pisets/results/checkpoint-2800/config.json\n",
      "Model weights saved in pisets/results/checkpoint-2800/pytorch_model.bin\n",
      "Feature extractor saved in pisets/results/checkpoint-2800/preprocessor_config.json\n",
      "Deleting older checkpoint [pisets/results/checkpoint-2000] due to args.save_total_limit\n",
      "/usr/local/lib/python3.8/dist-packages/transformers/models/wav2vec2/processing_wav2vec2.py:155: UserWarning: `as_target_processor` is deprecated and will be removed in v5 of Transformers. You can process your labels by using the argument `text` of the regular `__call__` method (either in the same call as your audio inputs, or in a separate call.\n",
      "  warnings.warn(\n",
      "The following columns in the evaluation set don't have a corresponding argument in `Wav2Vec2ForCTC.forward` and have been ignored: input_length. If input_length are not expected by `Wav2Vec2ForCTC.forward`,  you can safely ignore this message.\n",
      "***** Running Evaluation *****\n",
      "  Num examples = 1495\n",
      "  Batch size = 8\n",
      "Saving model checkpoint to pisets/results/checkpoint-3200\n",
      "Configuration saved in pisets/results/checkpoint-3200/config.json\n",
      "Model weights saved in pisets/results/checkpoint-3200/pytorch_model.bin\n",
      "Feature extractor saved in pisets/results/checkpoint-3200/preprocessor_config.json\n",
      "Deleting older checkpoint [pisets/results/checkpoint-2400] due to args.save_total_limit\n",
      "/usr/local/lib/python3.8/dist-packages/transformers/models/wav2vec2/processing_wav2vec2.py:155: UserWarning: `as_target_processor` is deprecated and will be removed in v5 of Transformers. You can process your labels by using the argument `text` of the regular `__call__` method (either in the same call as your audio inputs, or in a separate call.\n",
      "  warnings.warn(\n",
      "The following columns in the evaluation set don't have a corresponding argument in `Wav2Vec2ForCTC.forward` and have been ignored: input_length. If input_length are not expected by `Wav2Vec2ForCTC.forward`,  you can safely ignore this message.\n",
      "***** Running Evaluation *****\n",
      "  Num examples = 1495\n",
      "  Batch size = 8\n",
      "Saving model checkpoint to pisets/results/checkpoint-3600\n",
      "Configuration saved in pisets/results/checkpoint-3600/config.json\n",
      "Model weights saved in pisets/results/checkpoint-3600/pytorch_model.bin\n",
      "Feature extractor saved in pisets/results/checkpoint-3600/preprocessor_config.json\n",
      "Feature extractor saved in pisets/results/preprocessor_config.json\n",
      "Deleting older checkpoint [pisets/results/checkpoint-2800] due to args.save_total_limit\n",
      "/usr/local/lib/python3.8/dist-packages/transformers/models/wav2vec2/processing_wav2vec2.py:155: UserWarning: `as_target_processor` is deprecated and will be removed in v5 of Transformers. You can process your labels by using the argument `text` of the regular `__call__` method (either in the same call as your audio inputs, or in a separate call.\n",
      "  warnings.warn(\n"
     ]
    },
    {
     "ename": "KeyboardInterrupt",
     "evalue": "",
     "output_type": "error",
     "traceback": [
      "\u001b[0;31m---------------------------------------------------------------------------\u001b[0m",
      "\u001b[0;31mKeyboardInterrupt\u001b[0m                         Traceback (most recent call last)",
      "Cell \u001b[0;32mIn[22], line 32\u001b[0m\n\u001b[1;32m      4\u001b[0m training_args \u001b[38;5;241m=\u001b[39m TrainingArguments(\n\u001b[1;32m      5\u001b[0m   output_dir\u001b[38;5;241m=\u001b[39m\u001b[38;5;124m'\u001b[39m\u001b[38;5;124mpisets/results\u001b[39m\u001b[38;5;124m'\u001b[39m,\n\u001b[1;32m      6\u001b[0m   group_by_length\u001b[38;5;241m=\u001b[39m\u001b[38;5;28;01mTrue\u001b[39;00m,\n\u001b[0;32m   (...)\u001b[0m\n\u001b[1;32m     19\u001b[0m   push_to_hub\u001b[38;5;241m=\u001b[39m\u001b[38;5;28;01mTrue\u001b[39;00m,\n\u001b[1;32m     20\u001b[0m )\n\u001b[1;32m     22\u001b[0m trainer \u001b[38;5;241m=\u001b[39m Trainer(\n\u001b[1;32m     23\u001b[0m     model\u001b[38;5;241m=\u001b[39mmodel,\n\u001b[1;32m     24\u001b[0m     data_collator\u001b[38;5;241m=\u001b[39mdata_collator,\n\u001b[0;32m   (...)\u001b[0m\n\u001b[1;32m     29\u001b[0m     tokenizer\u001b[38;5;241m=\u001b[39mprocessor\u001b[38;5;241m.\u001b[39mfeature_extractor,\n\u001b[1;32m     30\u001b[0m )\n\u001b[0;32m---> 32\u001b[0m \u001b[43mtrainer\u001b[49m\u001b[38;5;241;43m.\u001b[39;49m\u001b[43mtrain\u001b[49m\u001b[43m(\u001b[49m\u001b[43m)\u001b[49m\n",
      "File \u001b[0;32m/usr/local/lib/python3.8/dist-packages/transformers/trainer.py:1527\u001b[0m, in \u001b[0;36mTrainer.train\u001b[0;34m(self, resume_from_checkpoint, trial, ignore_keys_for_eval, **kwargs)\u001b[0m\n\u001b[1;32m   1522\u001b[0m     \u001b[38;5;28mself\u001b[39m\u001b[38;5;241m.\u001b[39mmodel_wrapped \u001b[38;5;241m=\u001b[39m \u001b[38;5;28mself\u001b[39m\u001b[38;5;241m.\u001b[39mmodel\n\u001b[1;32m   1524\u001b[0m inner_training_loop \u001b[38;5;241m=\u001b[39m find_executable_batch_size(\n\u001b[1;32m   1525\u001b[0m     \u001b[38;5;28mself\u001b[39m\u001b[38;5;241m.\u001b[39m_inner_training_loop, \u001b[38;5;28mself\u001b[39m\u001b[38;5;241m.\u001b[39m_train_batch_size, args\u001b[38;5;241m.\u001b[39mauto_find_batch_size\n\u001b[1;32m   1526\u001b[0m )\n\u001b[0;32m-> 1527\u001b[0m \u001b[38;5;28;01mreturn\u001b[39;00m \u001b[43minner_training_loop\u001b[49m\u001b[43m(\u001b[49m\n\u001b[1;32m   1528\u001b[0m \u001b[43m    \u001b[49m\u001b[43margs\u001b[49m\u001b[38;5;241;43m=\u001b[39;49m\u001b[43margs\u001b[49m\u001b[43m,\u001b[49m\n\u001b[1;32m   1529\u001b[0m \u001b[43m    \u001b[49m\u001b[43mresume_from_checkpoint\u001b[49m\u001b[38;5;241;43m=\u001b[39;49m\u001b[43mresume_from_checkpoint\u001b[49m\u001b[43m,\u001b[49m\n\u001b[1;32m   1530\u001b[0m \u001b[43m    \u001b[49m\u001b[43mtrial\u001b[49m\u001b[38;5;241;43m=\u001b[39;49m\u001b[43mtrial\u001b[49m\u001b[43m,\u001b[49m\n\u001b[1;32m   1531\u001b[0m \u001b[43m    \u001b[49m\u001b[43mignore_keys_for_eval\u001b[49m\u001b[38;5;241;43m=\u001b[39;49m\u001b[43mignore_keys_for_eval\u001b[49m\u001b[43m,\u001b[49m\n\u001b[1;32m   1532\u001b[0m \u001b[43m\u001b[49m\u001b[43m)\u001b[49m\n",
      "File \u001b[0;32m/usr/local/lib/python3.8/dist-packages/transformers/trainer.py:1775\u001b[0m, in \u001b[0;36mTrainer._inner_training_loop\u001b[0;34m(self, batch_size, args, resume_from_checkpoint, trial, ignore_keys_for_eval)\u001b[0m\n\u001b[1;32m   1773\u001b[0m         tr_loss_step \u001b[38;5;241m=\u001b[39m \u001b[38;5;28mself\u001b[39m\u001b[38;5;241m.\u001b[39mtraining_step(model, inputs)\n\u001b[1;32m   1774\u001b[0m \u001b[38;5;28;01melse\u001b[39;00m:\n\u001b[0;32m-> 1775\u001b[0m     tr_loss_step \u001b[38;5;241m=\u001b[39m \u001b[38;5;28;43mself\u001b[39;49m\u001b[38;5;241;43m.\u001b[39;49m\u001b[43mtraining_step\u001b[49m\u001b[43m(\u001b[49m\u001b[43mmodel\u001b[49m\u001b[43m,\u001b[49m\u001b[43m \u001b[49m\u001b[43minputs\u001b[49m\u001b[43m)\u001b[49m\n\u001b[1;32m   1777\u001b[0m \u001b[38;5;28;01mif\u001b[39;00m (\n\u001b[1;32m   1778\u001b[0m     args\u001b[38;5;241m.\u001b[39mlogging_nan_inf_filter\n\u001b[1;32m   1779\u001b[0m     \u001b[38;5;129;01mand\u001b[39;00m \u001b[38;5;129;01mnot\u001b[39;00m is_torch_tpu_available()\n\u001b[1;32m   1780\u001b[0m     \u001b[38;5;129;01mand\u001b[39;00m (torch\u001b[38;5;241m.\u001b[39misnan(tr_loss_step) \u001b[38;5;129;01mor\u001b[39;00m torch\u001b[38;5;241m.\u001b[39misinf(tr_loss_step))\n\u001b[1;32m   1781\u001b[0m ):\n\u001b[1;32m   1782\u001b[0m     \u001b[38;5;66;03m# if loss is nan or inf simply add the average of previous logged losses\u001b[39;00m\n\u001b[1;32m   1783\u001b[0m     tr_loss \u001b[38;5;241m+\u001b[39m\u001b[38;5;241m=\u001b[39m tr_loss \u001b[38;5;241m/\u001b[39m (\u001b[38;5;241m1\u001b[39m \u001b[38;5;241m+\u001b[39m \u001b[38;5;28mself\u001b[39m\u001b[38;5;241m.\u001b[39mstate\u001b[38;5;241m.\u001b[39mglobal_step \u001b[38;5;241m-\u001b[39m \u001b[38;5;28mself\u001b[39m\u001b[38;5;241m.\u001b[39m_globalstep_last_logged)\n",
      "File \u001b[0;32m/usr/local/lib/python3.8/dist-packages/transformers/trainer.py:2523\u001b[0m, in \u001b[0;36mTrainer.training_step\u001b[0;34m(self, model, inputs)\u001b[0m\n\u001b[1;32m   2520\u001b[0m     \u001b[38;5;28;01mreturn\u001b[39;00m loss_mb\u001b[38;5;241m.\u001b[39mreduce_mean()\u001b[38;5;241m.\u001b[39mdetach()\u001b[38;5;241m.\u001b[39mto(\u001b[38;5;28mself\u001b[39m\u001b[38;5;241m.\u001b[39margs\u001b[38;5;241m.\u001b[39mdevice)\n\u001b[1;32m   2522\u001b[0m \u001b[38;5;28;01mwith\u001b[39;00m \u001b[38;5;28mself\u001b[39m\u001b[38;5;241m.\u001b[39mcompute_loss_context_manager():\n\u001b[0;32m-> 2523\u001b[0m     loss \u001b[38;5;241m=\u001b[39m \u001b[38;5;28;43mself\u001b[39;49m\u001b[38;5;241;43m.\u001b[39;49m\u001b[43mcompute_loss\u001b[49m\u001b[43m(\u001b[49m\u001b[43mmodel\u001b[49m\u001b[43m,\u001b[49m\u001b[43m \u001b[49m\u001b[43minputs\u001b[49m\u001b[43m)\u001b[49m\n\u001b[1;32m   2525\u001b[0m \u001b[38;5;28;01mif\u001b[39;00m \u001b[38;5;28mself\u001b[39m\u001b[38;5;241m.\u001b[39margs\u001b[38;5;241m.\u001b[39mn_gpu \u001b[38;5;241m>\u001b[39m \u001b[38;5;241m1\u001b[39m:\n\u001b[1;32m   2526\u001b[0m     loss \u001b[38;5;241m=\u001b[39m loss\u001b[38;5;241m.\u001b[39mmean()  \u001b[38;5;66;03m# mean() to average on multi-gpu parallel training\u001b[39;00m\n",
      "File \u001b[0;32m/usr/local/lib/python3.8/dist-packages/transformers/trainer.py:2555\u001b[0m, in \u001b[0;36mTrainer.compute_loss\u001b[0;34m(self, model, inputs, return_outputs)\u001b[0m\n\u001b[1;32m   2553\u001b[0m \u001b[38;5;28;01melse\u001b[39;00m:\n\u001b[1;32m   2554\u001b[0m     labels \u001b[38;5;241m=\u001b[39m \u001b[38;5;28;01mNone\u001b[39;00m\n\u001b[0;32m-> 2555\u001b[0m outputs \u001b[38;5;241m=\u001b[39m \u001b[43mmodel\u001b[49m\u001b[43m(\u001b[49m\u001b[38;5;241;43m*\u001b[39;49m\u001b[38;5;241;43m*\u001b[39;49m\u001b[43minputs\u001b[49m\u001b[43m)\u001b[49m\n\u001b[1;32m   2556\u001b[0m \u001b[38;5;66;03m# Save past state if it exists\u001b[39;00m\n\u001b[1;32m   2557\u001b[0m \u001b[38;5;66;03m# TODO: this needs to be fixed and made cleaner later.\u001b[39;00m\n\u001b[1;32m   2558\u001b[0m \u001b[38;5;28;01mif\u001b[39;00m \u001b[38;5;28mself\u001b[39m\u001b[38;5;241m.\u001b[39margs\u001b[38;5;241m.\u001b[39mpast_index \u001b[38;5;241m>\u001b[39m\u001b[38;5;241m=\u001b[39m \u001b[38;5;241m0\u001b[39m:\n",
      "File \u001b[0;32m/usr/local/lib/python3.8/dist-packages/torch/nn/modules/module.py:1194\u001b[0m, in \u001b[0;36mModule._call_impl\u001b[0;34m(self, *input, **kwargs)\u001b[0m\n\u001b[1;32m   1190\u001b[0m \u001b[38;5;66;03m# If we don't have any hooks, we want to skip the rest of the logic in\u001b[39;00m\n\u001b[1;32m   1191\u001b[0m \u001b[38;5;66;03m# this function, and just call forward.\u001b[39;00m\n\u001b[1;32m   1192\u001b[0m \u001b[38;5;28;01mif\u001b[39;00m \u001b[38;5;129;01mnot\u001b[39;00m (\u001b[38;5;28mself\u001b[39m\u001b[38;5;241m.\u001b[39m_backward_hooks \u001b[38;5;129;01mor\u001b[39;00m \u001b[38;5;28mself\u001b[39m\u001b[38;5;241m.\u001b[39m_forward_hooks \u001b[38;5;129;01mor\u001b[39;00m \u001b[38;5;28mself\u001b[39m\u001b[38;5;241m.\u001b[39m_forward_pre_hooks \u001b[38;5;129;01mor\u001b[39;00m _global_backward_hooks\n\u001b[1;32m   1193\u001b[0m         \u001b[38;5;129;01mor\u001b[39;00m _global_forward_hooks \u001b[38;5;129;01mor\u001b[39;00m _global_forward_pre_hooks):\n\u001b[0;32m-> 1194\u001b[0m     \u001b[38;5;28;01mreturn\u001b[39;00m \u001b[43mforward_call\u001b[49m\u001b[43m(\u001b[49m\u001b[38;5;241;43m*\u001b[39;49m\u001b[38;5;28;43minput\u001b[39;49m\u001b[43m,\u001b[49m\u001b[43m \u001b[49m\u001b[38;5;241;43m*\u001b[39;49m\u001b[38;5;241;43m*\u001b[39;49m\u001b[43mkwargs\u001b[49m\u001b[43m)\u001b[49m\n\u001b[1;32m   1195\u001b[0m \u001b[38;5;66;03m# Do not call functions when jit is used\u001b[39;00m\n\u001b[1;32m   1196\u001b[0m full_backward_hooks, non_full_backward_hooks \u001b[38;5;241m=\u001b[39m [], []\n",
      "File \u001b[0;32m/usr/local/lib/python3.8/dist-packages/transformers/models/wav2vec2/modeling_wav2vec2.py:1693\u001b[0m, in \u001b[0;36mWav2Vec2ForCTC.forward\u001b[0;34m(self, input_values, attention_mask, output_attentions, output_hidden_states, return_dict, labels)\u001b[0m\n\u001b[1;32m   1690\u001b[0m loss \u001b[38;5;241m=\u001b[39m \u001b[38;5;28;01mNone\u001b[39;00m\n\u001b[1;32m   1691\u001b[0m \u001b[38;5;28;01mif\u001b[39;00m labels \u001b[38;5;129;01mis\u001b[39;00m \u001b[38;5;129;01mnot\u001b[39;00m \u001b[38;5;28;01mNone\u001b[39;00m:\n\u001b[0;32m-> 1693\u001b[0m     \u001b[38;5;28;01mif\u001b[39;00m labels\u001b[38;5;241m.\u001b[39mmax() \u001b[38;5;241m>\u001b[39m\u001b[38;5;241m=\u001b[39m \u001b[38;5;28mself\u001b[39m\u001b[38;5;241m.\u001b[39mconfig\u001b[38;5;241m.\u001b[39mvocab_size:\n\u001b[1;32m   1694\u001b[0m         \u001b[38;5;28;01mraise\u001b[39;00m \u001b[38;5;167;01mValueError\u001b[39;00m(\u001b[38;5;124mf\u001b[39m\u001b[38;5;124m\"\u001b[39m\u001b[38;5;124mLabel values must be <= vocab_size: \u001b[39m\u001b[38;5;132;01m{\u001b[39;00m\u001b[38;5;28mself\u001b[39m\u001b[38;5;241m.\u001b[39mconfig\u001b[38;5;241m.\u001b[39mvocab_size\u001b[38;5;132;01m}\u001b[39;00m\u001b[38;5;124m\"\u001b[39m)\n\u001b[1;32m   1696\u001b[0m     \u001b[38;5;66;03m# retrieve loss input_lengths from attention_mask\u001b[39;00m\n",
      "\u001b[0;31mKeyboardInterrupt\u001b[0m: "
     ]
    }
   ],
   "source": [
    "from transformers import TrainingArguments\n",
    "from transformers import Trainer\n",
    "\n",
    "training_args = TrainingArguments(\n",
    "  output_dir='pisets/results',\n",
    "  group_by_length=True,\n",
    "  per_device_train_batch_size=16,\n",
    "  gradient_accumulation_steps=2,\n",
    "  evaluation_strategy=\"steps\",\n",
    "  num_train_epochs=30,\n",
    "  gradient_checkpointing=True,\n",
    "  fp16=True,\n",
    "  save_steps=400,\n",
    "  eval_steps=400,\n",
    "  logging_steps=400,\n",
    "  learning_rate=3e-4,\n",
    "  warmup_steps=500,\n",
    "  save_total_limit=2,\n",
    "  push_to_hub=True,\n",
    ")\n",
    "\n",
    "trainer = Trainer(\n",
    "    model=model,\n",
    "    data_collator=data_collator,\n",
    "    args=training_args,\n",
    "    compute_metrics=compute_metrics,\n",
    "    train_dataset=ds_train,\n",
    "    eval_dataset=ds_test,\n",
    "    tokenizer=processor.feature_extractor,\n",
    ")\n",
    "\n",
    "trainer.train()"
   ]
  },
  {
   "cell_type": "code",
   "execution_count": null,
   "id": "e3483734",
   "metadata": {},
   "outputs": [],
   "source": []
  }
 ],
 "metadata": {
  "kernelspec": {
   "display_name": "Python 3 (ipykernel)",
   "language": "python",
   "name": "python3"
  },
  "language_info": {
   "codemirror_mode": {
    "name": "ipython",
    "version": 3
   },
   "file_extension": ".py",
   "mimetype": "text/x-python",
   "name": "python",
   "nbconvert_exporter": "python",
   "pygments_lexer": "ipython3",
   "version": "3.8.10"
  }
 },
 "nbformat": 4,
 "nbformat_minor": 5
}
