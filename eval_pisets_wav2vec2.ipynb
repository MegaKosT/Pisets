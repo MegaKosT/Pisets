{
 "cells": [
  {
   "cell_type": "code",
   "execution_count": 1,
   "id": "cd7467bf",
   "metadata": {},
   "outputs": [
    {
     "name": "stderr",
     "output_type": "stream",
     "text": [
      "/usr/local/lib/python3.8/dist-packages/tqdm/auto.py:22: TqdmWarning: IProgress not found. Please update jupyter and ipywidgets. See https://ipywidgets.readthedocs.io/en/stable/user_install.html\n",
      "  from .autonotebook import tqdm as notebook_tqdm\n"
     ]
    }
   ],
   "source": [
    "from transformers import Wav2Vec2Processor, Wav2Vec2ForCTC\n",
    "from datasets import load_dataset\n",
    "import torch\n",
    "import os\n",
    "from jiwer import wer, cer "
   ]
  },
  {
   "cell_type": "code",
   "execution_count": 2,
   "id": "4bdde027",
   "metadata": {},
   "outputs": [
    {
     "name": "stdout",
     "output_type": "stream",
     "text": [
      "True\n"
     ]
    }
   ],
   "source": [
    "os.environ['CUDA_VISIBLE_DEVICES'] = '0'\n",
    "print(torch.cuda.is_available())\n",
    "\n",
    "device = torch.device(\"cuda\" if torch.cuda.is_available() else \"cpu\")"
   ]
  },
  {
   "cell_type": "code",
   "execution_count": 3,
   "id": "8c79df61",
   "metadata": {},
   "outputs": [
    {
     "name": "stderr",
     "output_type": "stream",
     "text": [
      "Downloading: 100%|██████████| 1.26G/1.26G [1:06:05<00:00, 318kB/s] \n"
     ]
    }
   ],
   "source": [
    "# загрузка модели и токенизатора\n",
    "processor = Wav2Vec2Processor.from_pretrained(\"bond005/wav2vec2-large-ru-golos\")\n",
    "model = Wav2Vec2ForCTC.from_pretrained(\"doooori/wav2vec2_pisets\")"
   ]
  },
  {
   "cell_type": "code",
   "execution_count": 4,
   "id": "9faa4d6b",
   "metadata": {},
   "outputs": [
    {
     "name": "stderr",
     "output_type": "stream",
     "text": [
      "Using custom data configuration MegaKosT--RuDevSberDS-c815bd8b35ec831d\n",
      "Found cached dataset parquet (/root/.cache/huggingface/datasets/MegaKosT___parquet/MegaKosT--RuDevSberDS-c815bd8b35ec831d/0.0.0/2a3b91fbd88a2c90d1dbbb32b460cf621d31bd5b05b934492fdef7d8d6f236ec)\n"
     ]
    }
   ],
   "source": [
    "# загрузка датасета\n",
    "ds = load_dataset(\"MegaKosT/RuDevSberDS\", split=\"test\")"
   ]
  },
  {
   "cell_type": "code",
   "execution_count": 5,
   "id": "9c964d94",
   "metadata": {},
   "outputs": [
    {
     "name": "stderr",
     "output_type": "stream",
     "text": [
      "Loading cached processed dataset at /root/.cache/huggingface/datasets/MegaKosT___parquet/MegaKosT--RuDevSberDS-c815bd8b35ec831d/0.0.0/2a3b91fbd88a2c90d1dbbb32b460cf621d31bd5b05b934492fdef7d8d6f236ec/cache-f925d8d7dc0d094e.arrow\n"
     ]
    }
   ],
   "source": [
    "ds = ds.filter(\n",
    "    lambda it1: (it1[\"transcription\"] is not None) and (len(it1[\"transcription\"].strip()) > 0)\n",
    ")"
   ]
  },
  {
   "cell_type": "code",
   "execution_count": 7,
   "id": "441cc65e",
   "metadata": {},
   "outputs": [
    {
     "name": "stderr",
     "output_type": "stream",
     "text": [
      "It is strongly recommended to pass the ``sampling_rate`` argument to this function. Failing to do so can result in silent errors that might be hard to debug.\n"
     ]
    }
   ],
   "source": [
    "import random\n",
    "# токенизируем\n",
    "rand_int = random.randint(0, len(ds)-1)\n",
    "processed = processor(ds[rand_int][\"audio\"][\"array\"], return_tensors=\"pt\", padding=\"longest\")"
   ]
  },
  {
   "cell_type": "code",
   "execution_count": 8,
   "id": "534d8d44",
   "metadata": {},
   "outputs": [],
   "source": [
    "# извлекаем логиты\n",
    "logits = model(processed.input_values, attention_mask=processed.attention_mask).logits"
   ]
  },
  {
   "cell_type": "code",
   "execution_count": 9,
   "id": "fc24f391",
   "metadata": {},
   "outputs": [
    {
     "name": "stdout",
     "output_type": "stream",
     "text": [
      "джой посчитай мне двадцать пять плюс семнадцать сколько будет\n"
     ]
    }
   ],
   "source": [
    "# берем argmax и декодируем\n",
    "predicted_ids = torch.argmax(logits, dim=-1)\n",
    "transcription = processor.batch_decode(predicted_ids)[0]\n",
    "print(transcription)"
   ]
  },
  {
   "cell_type": "code",
   "execution_count": 10,
   "id": "b85edcd4",
   "metadata": {},
   "outputs": [
    {
     "data": {
      "text/plain": [
       "{'audio': {'path': '783be89657e6107d78935a5aba832bac.wav',\n",
       "  'array': array([0.00000000e+00, 0.00000000e+00, 0.00000000e+00, ...,\n",
       "         3.05175781e-05, 0.00000000e+00, 0.00000000e+00]),\n",
       "  'sampling_rate': 16000},\n",
       " 'transcription': 'джой посчитай мне двадцать пять плюс семнадцать сколько будет'}"
      ]
     },
     "execution_count": 10,
     "metadata": {},
     "output_type": "execute_result"
    }
   ],
   "source": [
    "ds[rand_int]"
   ]
  },
  {
   "cell_type": "code",
   "execution_count": 11,
   "id": "373782fa",
   "metadata": {},
   "outputs": [
    {
     "name": "stderr",
     "output_type": "stream",
     "text": [
      "100%|██████████| 9194/9194 [03:52<00:00, 39.49ex/s]\n"
     ]
    },
    {
     "name": "stdout",
     "output_type": "stream",
     "text": [
      "Word error rate: 0.1777212885813366\n",
      "Character error: 0.05889145808824524\n"
     ]
    }
   ],
   "source": [
    "model.to(device)\n",
    "\n",
    "# recognize one sound\n",
    "def map_to_pred(batch):\n",
    "    # tokenize and vectorize\n",
    "    processed = processor(\n",
    "        batch[\"audio\"][\"array\"], sampling_rate=batch[\"audio\"][\"sampling_rate\"],\n",
    "        return_tensors=\"pt\", padding=\"longest\"\n",
    "    )\n",
    "    input_values = processed.input_values.to(device)\n",
    "    attention_mask = processed.attention_mask.to(device)\n",
    "\n",
    "    # recognize\n",
    "    with torch.no_grad():\n",
    "        logits = model(input_values, attention_mask=attention_mask).logits\n",
    "    predicted_ids = torch.argmax(logits, dim=-1)\n",
    "\n",
    "    # decode\n",
    "    transcription = processor.batch_decode(predicted_ids)\n",
    "    batch[\"text\"] = transcription[0]\n",
    "    return batch\n",
    "\n",
    "# calculate WER and CER\n",
    "result = ds.map(map_to_pred, remove_columns=[\"audio\"])\n",
    "wer = wer(result[\"transcription\"], result[\"text\"])\n",
    "cer = cer(result[\"transcription\"], result[\"text\"])\n",
    "print(\"Word error rate:\", wer)\n",
    "print(\"Character error:\", cer)"
   ]
  }
 ],
 "metadata": {
  "kernelspec": {
   "display_name": "Python 3 (ipykernel)",
   "language": "python",
   "name": "python3"
  },
  "language_info": {
   "codemirror_mode": {
    "name": "ipython",
    "version": 3
   },
   "file_extension": ".py",
   "mimetype": "text/x-python",
   "name": "python",
   "nbconvert_exporter": "python",
   "pygments_lexer": "ipython3",
   "version": "3.8.10"
  }
 },
 "nbformat": 4,
 "nbformat_minor": 5
}
